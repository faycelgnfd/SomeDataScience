﻿{
 "cells": [
  {
   "cell_type": "code",
   "execution_count": 19,
   "metadata": {},
   "outputs": [
    {
     "data": {
      "image/png": "[encoded data removed]",
      "text/plain": [
       "<Figure size 432x288 with 1 Axes>"
      ]
     },
     "metadata": {
      "needs_background": "light"
     },
     "output_type": "display_data"
    }
   ],
   "source": [
    "import numpy as np\n",
    "import matplotlib.pyplot as plt\n",
    "\n",
    "#100 variables aléatoire (10000 échantillons de 10000 individus chaqu'un)\n",
    "random_mat = np.random.rand(10000,10000)\n",
    "\n",
    "#on somme les 10000 variables aléatoires pour en avoir qu'une (avec tjr 10000 echantillons)\n",
    "#l'argument 0 signifi qu'on somme ligne par ligne (0 pour lignes 1 pour colonnes)\n",
    "#donc on auras un veccteur de taille égle au nombre de ligne de la matrice\n",
    "somme = np.sum(random_mat,0)\n",
    "plt.figure()\n",
    "plot = plt.hist(somme,bins=100)\n",
    "\n",
    "# plt.figure()\n",
    "# plot = plt.hist(somme)\n"
   ]
  }
 ],
 "metadata": {
  "kernelspec": {
   "display_name": "Python 3",
   "language": "python",
   "name": "python3"
  },
  "language_info": {
   "codemirror_mode": {
    "name": "ipython",
    "version": 3
   },
   "file_extension": ".py",
   "mimetype": "text/x-python",
   "name": "python",
   "nbconvert_exporter": "python",
   "pygments_lexer": "ipython3",
   "version": "3.7.4"
  }
 },
 "nbformat": 4,
 "nbformat_minor": 2
}
