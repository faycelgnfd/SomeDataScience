{
  "nbformat": 4,
  "nbformat_minor": 0,
  "metadata": {
    "colab": {
      "name": "Number classification using k-nn.ipynb",
      "provenance": [],
      "collapsed_sections": []
    },
    "kernelspec": {
      "name": "python3",
      "display_name": "Python 3"
    }
  },
  "cells": [
    {
      "cell_type": "markdown",
      "metadata": {
        "id": "Q9bQLtd2ZW2A",
        "colab_type": "text"
      },
      "source": [
        "Importing the modules and the dataset"
      ]
    },
    {
      "cell_type": "code",
      "metadata": {
        "id": "4YzDTolFYo0q",
        "colab_type": "code",
        "colab": {}
      },
      "source": [
        "import numpy as np\n",
        "import pandas as pd\n",
        "from sklearn.datasets import fetch_openml\n",
        "from sklearn.utils import resample\n",
        "from sklearn.model_selection import train_test_split\n",
        "\n",
        "mnist = fetch_openml('mnist_784',version=1)"
      ],
      "execution_count": 0,
      "outputs": []
    },
    {
      "cell_type": "markdown",
      "metadata": {
        "id": "DCzTdXXwZ1i4",
        "colab_type": "text"
      },
      "source": [
        "The dataset is divided into 2 groups the `data` and the `target`.\n",
        "\n",
        "the `data` contains the images (70000 arrays of 28*28=784) each column is a pixel (a number between 0 and 16, 0 for white 16 for black)\n",
        "\n",
        "The `target` part contains the labels, the number which is represented in the array (from o to 9) "
      ]
    },
    {
      "cell_type": "code",
      "metadata": {
        "id": "ecSJ6UP8ZbqG",
        "colab_type": "code",
        "outputId": "9dca51a1-1686-4f51-cb3f-0ee1c94ea18e",
        "colab": {
          "base_uri": "https://localhost:8080/",
          "height": 72
        }
      },
      "source": [
        "print(type(mnist.data))\n",
        "print(mnist.data.shape)\n",
        "print(mnist.target.shape)"
      ],
      "execution_count": 0,
      "outputs": [
        {
          "output_type": "stream",
          "text": [
            "<class 'numpy.ndarray'>\n",
            "(70000, 784)\n",
            "(70000,)\n"
          ],
          "name": "stdout"
        }
      ]
    },
    {
      "cell_type": "markdown",
      "metadata": {
        "id": "qHMit89ChwCF",
        "colab_type": "text"
      },
      "source": [
        "# **Sampling**\n",
        "\n",
        "For a memory based model which uses a k-nn, 70000 exemples is way too much for the calculation cost and the memory.\n",
        "So we're gonna work on a sample of 5000 exemples:"
      ]
    },
    {
      "cell_type": "code",
      "metadata": {
        "id": "nmQwfiozzeVy",
        "colab_type": "code",
        "colab": {}
      },
      "source": [
        "sample = np.random.randint(70000,size=5000)\n",
        "data = mnist.data[sample]\n",
        "target = mnist.target[sample]"
      ],
      "execution_count": 0,
      "outputs": []
    },
    {
      "cell_type": "markdown",
      "metadata": {
        "id": "y8qJp7_zoIZj",
        "colab_type": "text"
      },
      "source": [
        "# **Spliting**\n",
        "\n",
        "spliting the samples into training and testing samples:"
      ]
    },
    {
      "cell_type": "code",
      "metadata": {
        "id": "SKDfmju7oWua",
        "colab_type": "code",
        "colab": {}
      },
      "source": [
        "xtrain, xtest, ytrain, ytest = train_test_split(data, target, train_size=0.8)"
      ],
      "execution_count": 0,
      "outputs": []
    },
    {
      "cell_type": "markdown",
      "metadata": {
        "id": "k2rDexV5sUFO",
        "colab_type": "text"
      },
      "source": [
        "# **The model**\n",
        "\n",
        "We are going to use the k-nn algorithme available in the sklearn framework"
      ]
    },
    {
      "cell_type": "code",
      "metadata": {
        "id": "mUisy00fsqRl",
        "colab_type": "code",
        "outputId": "eb42bf58-3e6b-4ef7-a5a0-8540f9b74cd8",
        "colab": {
          "base_uri": "https://localhost:8080/",
          "height": 72
        }
      },
      "source": [
        "#importing the model\n",
        "from sklearn import neighbors\n",
        "\n",
        "#initializing the model\n",
        "knn = neighbors.KNeighborsClassifier(n_neighbors=3)\n",
        "knn.fit(xtrain,ytrain)"
      ],
      "execution_count": 0,
      "outputs": [
        {
          "output_type": "execute_result",
          "data": {
            "text/plain": [
              "KNeighborsClassifier(algorithm='auto', leaf_size=30, metric='minkowski',\n",
              "                     metric_params=None, n_jobs=None, n_neighbors=3, p=2,\n",
              "                     weights='uniform')"
            ]
          },
          "metadata": {
            "tags": []
          },
          "execution_count": 64
        }
      ]
    },
    {
      "cell_type": "code",
      "metadata": {
        "id": "etMQPZsVxE6i",
        "colab_type": "code",
        "outputId": "4b2418be-1dd3-421c-c855-9b6a2717f2c1",
        "colab": {
          "base_uri": "https://localhost:8080/",
          "height": 35
        }
      },
      "source": [
        "#testing\n",
        "knn.score(xtest,ytest)"
      ],
      "execution_count": 0,
      "outputs": [
        {
          "output_type": "execute_result",
          "data": {
            "text/plain": [
              "0.927"
            ]
          },
          "metadata": {
            "tags": []
          },
          "execution_count": 65
        }
      ]
    },
    {
      "cell_type": "markdown",
      "metadata": {
        "id": "ZYTIIHX40bDV",
        "colab_type": "text"
      },
      "source": [
        "# **Optimizing**\n",
        "We can tweak our model to have better performances by changing the hyper-parameter k.\n",
        "\n",
        "we're gonna search for a good value of k using the loss history."
      ]
    },
    {
      "cell_type": "code",
      "metadata": {
        "id": "c7hoo7v00ulL",
        "colab_type": "code",
        "outputId": "0b96c8d7-67e0-4a48-9848-115ef6284f6a",
        "colab": {
          "base_uri": "https://localhost:8080/",
          "height": 283
        }
      },
      "source": [
        "score = []\n",
        "for k in range(2,15):\n",
        "  knn = neighbors.KNeighborsClassifier(n_neighbors=k)\n",
        "  knn.fit(xtrain,ytrain)\n",
        "  score.append(knn.score(xtest,ytest))\n",
        "\n",
        "\n",
        "import matplotlib.pyplot as plt\n",
        "plt.plot(range(2,15), score)"
      ],
      "execution_count": 0,
      "outputs": [
        {
          "output_type": "execute_result",
          "data": {
            "text/plain": [
              "[<matplotlib.lines.Line2D at 0x7f3c463d52b0>]"
            ]
          },
          "metadata": {
            "tags": []
          },
          "execution_count": 67
        },
        {
          "output_type": "display_data",
          "data": {
            "image/png": "[encoded data removed]",
            "text/plain": [
              "<Figure size 432x288 with 1 Axes>"
            ]
          },
          "metadata": {
            "tags": []
          }
        }
      ]
    },
    {
      "cell_type": "markdown",
      "metadata": {
        "id": "3lgjNrz047Uz",
        "colab_type": "text"
      },
      "source": [
        "We can see that our model is more performent with k=5, so our final optimal model will be a 5-nn."
      ]
    },
    {
      "cell_type": "markdown",
      "metadata": {
        "id": "2a7illFW7CoT",
        "colab_type": "text"
      },
      "source": [
        "# **Testing**\n",
        "we're gonna test some values"
      ]
    },
    {
      "cell_type": "code",
      "metadata": {
        "id": "QLN1nKFb7tUo",
        "colab_type": "code",
        "colab": {}
      },
      "source": [
        "# we train our model with the optimal k\n",
        "knn = neighbors.KNeighborsClassifier(5)\n",
        "knn.fit(xtrain, ytrain)\n",
        "\n",
        "# get the prediction for our testing data\n",
        "predicted = knn.predict(xtest)"
      ],
      "execution_count": 0,
      "outputs": []
    },
    {
      "cell_type": "code",
      "metadata": {
        "id": "JYZzogbN7N4Z",
        "colab_type": "code",
        "outputId": "29d6fe09-cad7-4c3b-c3bd-a5874a2b6db3",
        "colab": {
          "base_uri": "https://localhost:8080/",
          "height": 264
        }
      },
      "source": [
        "# reshaping the data to get images\n",
        "images = xtest.reshape((-1, 28, 28))\n",
        "\n",
        "# geting a sample of 12 images\n",
        "select = np.random.randint(images.shape[0], size=12)\n",
        "\n",
        "# On affiche les images avec la prédiction associée\n",
        "fig,ax = plt.subplots(3,4)\n",
        "\n",
        "for index, value in enumerate(select):\n",
        "    plt.subplot(3,4,index+1)\n",
        "    plt.axis('off')\n",
        "    plt.imshow(images[value],cmap=plt.cm.gray_r,interpolation=\"nearest\")\n",
        "    plt.title('Predicted: {}'.format( predicted[value]) )\n",
        "\n",
        "plt.show()"
      ],
      "execution_count": 0,
      "outputs": [
        {
          "output_type": "display_data",
          "data": {
            "image/png": "[encoded data removed]",
            "text/plain": [
              "<Figure size 432x288 with 12 Axes>"
            ]
          },
          "metadata": {
            "tags": []
          }
        }
      ]
    }
  ]
}