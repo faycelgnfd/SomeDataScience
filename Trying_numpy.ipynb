{
  "nbformat": 4,
  "nbformat_minor": 0,
  "metadata": {
    "colab": {
      "name": "Trying_numpy.ipynb",
      "provenance": [],
      "collapsed_sections": []
    },
    "kernelspec": {
      "name": "python3",
      "display_name": "Python 3"
    }
  },
  "cells": [
    {
      "cell_type": "markdown",
      "metadata": {
        "id": "Rk05quphaaNC",
        "colab_type": "text"
      },
      "source": [
        "importing the numpy library:"
      ]
    },
    {
      "cell_type": "code",
      "metadata": {
        "id": "kJFQu531Y2Kf",
        "colab_type": "code",
        "colab": {}
      },
      "source": [
        "import numpy as np"
      ],
      "execution_count": 0,
      "outputs": []
    },
    {
      "cell_type": "markdown",
      "metadata": {
        "id": "9NiYgLaFaona",
        "colab_type": "text"
      },
      "source": [
        "trying numpy's arrays:"
      ]
    },
    {
      "cell_type": "code",
      "metadata": {
        "id": "-yH9eXMBas3B",
        "colab_type": "code",
        "outputId": "46380f65-cd8e-4059-c313-817498aa7edf",
        "colab": {
          "base_uri": "https://localhost:8080/",
          "height": 102
        }
      },
      "source": [
        "# an array of ints:\n",
        "a = np.array([1,2,3])\n",
        "print(a)\n",
        "# an array of floats(we define the type with the dtype argument without introducing float numbers)\n",
        "af = np.array([1,2,3],dtype=\"float32\")\n",
        "print(af)\n",
        "print(type(af), af.shape)\n",
        "mat = np.array([[1,2,3],[4,5,6]])\n",
        "print(type(mat),mat.shape)"
      ],
      "execution_count": 0,
      "outputs": [
        {
          "output_type": "stream",
          "text": [
            "[1 2 3]\n",
            "[1. 2. 3.]\n",
            "<class 'numpy.ndarray'> (3,)\n",
            "<class 'numpy.ndarray'> (2, 3)\n",
            "6\n"
          ],
          "name": "stdout"
        }
      ]
    },
    {
      "cell_type": "markdown",
      "metadata": {
        "id": "1Phyq7-acfJS",
        "colab_type": "text"
      },
      "source": [
        "so all shapes in numpy are considered as arrays (numpy.ndarray)."
      ]
    },
    {
      "cell_type": "code",
      "metadata": {
        "id": "t8JDvgzvco--",
        "colab_type": "code",
        "outputId": "23204f4a-d321-47b7-bdd4-d06f2f598d3e",
        "colab": {
          "base_uri": "https://localhost:8080/",
          "height": 102
        }
      },
      "source": [
        "mat2=np.array([range(i, i + 3) for i in [2, 4, 6]])\n",
        "print(mat2)\n",
        "print(\"\\n\",type(mat2),mat2.shape)"
      ],
      "execution_count": 0,
      "outputs": [
        {
          "output_type": "stream",
          "text": [
            "[[2 3 4]\n",
            " [4 5 6]\n",
            " [6 7 8]]\n",
            "\n",
            " <class 'numpy.ndarray'> (3, 3)\n"
          ],
          "name": "stdout"
        }
      ]
    },
    {
      "cell_type": "markdown",
      "metadata": {
        "id": "Yhtloi7-dl9V",
        "colab_type": "text"
      },
      "source": [
        "same thing, an array."
      ]
    },
    {
      "cell_type": "markdown",
      "metadata": {
        "id": "73-ZsbGYeu1H",
        "colab_type": "text"
      },
      "source": [
        "numpy is able to fill arrays with values of our choice (without introducing the values one by one):"
      ]
    },
    {
      "cell_type": "code",
      "metadata": {
        "id": "NEpFDscGfJjQ",
        "colab_type": "code",
        "colab": {}
      },
      "source": [
        "# an array full of zeros np.zeros(shape,dtype)\n",
        "z = np.zeros((2,5),dtype=\"int8\")"
      ],
      "execution_count": 0,
      "outputs": []
    },
    {
      "cell_type": "code",
      "metadata": {
        "id": "vqceAUUQfdE5",
        "colab_type": "code",
        "colab": {}
      },
      "source": [
        "# an array full of ones np.ones(shape,dtype)\n",
        "o = np.ones((2,),dtype=\"float32\")"
      ],
      "execution_count": 0,
      "outputs": []
    },
    {
      "cell_type": "code",
      "metadata": {
        "id": "u7oKUZX-f2_x",
        "colab_type": "code",
        "colab": {}
      },
      "source": [
        "# an array full of a specific value x np.full(shape,x,dtype)\n",
        "x = np.full((2,3,4),3.14,dtype=\"float32\")"
      ],
      "execution_count": 0,
      "outputs": []
    },
    {
      "cell_type": "code",
      "metadata": {
        "id": "UCSQTTOKgcvb",
        "colab_type": "code",
        "colab": {}
      },
      "source": [
        "# an array full of values between a range np.arange(start,stop,step=1)\n",
        "r = np.arange(10,50,10)"
      ],
      "execution_count": 0,
      "outputs": []
    },
    {
      "cell_type": "code",
      "metadata": {
        "id": "cqYQYOHqhLdZ",
        "colab_type": "code",
        "colab": {}
      },
      "source": [
        "# an array full of random values np.random.random(shape,dtype)\n",
        "rand = np.random.random((2,2))\n",
        "# np.random.randint(shape)\n",
        "# np.random.ranf(shape)\n",
        "randint = np.random.randint(1,10,size=(3,3))"
      ],
      "execution_count": 0,
      "outputs": []
    },
    {
      "cell_type": "code",
      "metadata": {
        "id": "MdYt1jDxo-km",
        "colab_type": "code",
        "colab": {}
      },
      "source": [
        "# identity matrix with a SxS shape np.eye(S)\n",
        "eye = np.eye(3)"
      ],
      "execution_count": 0,
      "outputs": []
    },
    {
      "cell_type": "code",
      "metadata": {
        "id": "4-6PLQwbpWSq",
        "colab_type": "code",
        "outputId": "93c3c5a8-b671-4e5b-e805-ba21bb868bb6",
        "colab": {
          "base_uri": "https://localhost:8080/",
          "height": 442
        }
      },
      "source": [
        "print (z,o,x,r,rand,eye,randint,sep=\"\\n*********\\n\")"
      ],
      "execution_count": 13,
      "outputs": [
        {
          "output_type": "stream",
          "text": [
            "[[0 0 0 0 0]\n",
            " [0 0 0 0 0]]\n",
            "*********\n",
            "[1. 1.]\n",
            "*********\n",
            "[[[3.14 3.14 3.14 3.14]\n",
            "  [3.14 3.14 3.14 3.14]\n",
            "  [3.14 3.14 3.14 3.14]]\n",
            "\n",
            " [[3.14 3.14 3.14 3.14]\n",
            "  [3.14 3.14 3.14 3.14]\n",
            "  [3.14 3.14 3.14 3.14]]]\n",
            "*********\n",
            "[10 20 30 40]\n",
            "*********\n",
            "[[0.73889598 0.07367266]\n",
            " [0.91659082 0.97015154]]\n",
            "*********\n",
            "[[1. 0. 0.]\n",
            " [0. 1. 0.]\n",
            " [0. 0. 1.]]\n",
            "*********\n",
            "[[5 6 6]\n",
            " [3 5 8]\n",
            " [5 3 6]]\n"
          ],
          "name": "stdout"
        }
      ]
    },
    {
      "cell_type": "markdown",
      "metadata": {
        "id": "vQrgrTKltuT2",
        "colab_type": "text"
      },
      "source": [
        "some array properties:"
      ]
    },
    {
      "cell_type": "code",
      "metadata": {
        "id": "WCBd1gS3t6T-",
        "colab_type": "code",
        "outputId": "9d3aedf6-d419-47e5-cf32-01f75b870c26",
        "colab": {
          "base_uri": "https://localhost:8080/",
          "height": 170
        }
      },
      "source": [
        "x = np.array([[1,2,3],[4,5,6]])\n",
        "y = np.array([9,9,9])\n",
        "print(\"x = \",x, end=\"\\n**********\\n\")\n",
        "print(\"y = \",y, end=\"\\n**********\\n\")\n",
        "print(\"x's dimension: {} || y's dimension: {}\".format(x.ndim,y.ndim))\n",
        "print(\"x's shape: {} || y's shape: {}\".format(x.shape,y.shape))\n",
        "print(\"x's size: {} || y's size: {}\".format(x.size,y.size))\n",
        "print(\"x's type: {} || y's type: {}\".format(type(x),type(y)))"
      ],
      "execution_count": 0,
      "outputs": [
        {
          "output_type": "stream",
          "text": [
            "x =  [[1 2 3]\n",
            " [4 5 6]]\n",
            "**********\n",
            "y =  [9 9 9]\n",
            "**********\n",
            "x's dimension: 2 || y's dimension: 1\n",
            "x's shape: (2, 3) || y's shape: (3,)\n",
            "x's size: 6 || y's size: 3\n",
            "x's type: <class 'numpy.ndarray'> || y's type: <class 'numpy.ndarray'>\n"
          ],
          "name": "stdout"
        }
      ]
    },
    {
      "cell_type": "markdown",
      "metadata": {
        "id": "5MaOch_5z9XW",
        "colab_type": "text"
      },
      "source": [
        "some array operations:"
      ]
    },
    {
      "cell_type": "code",
      "metadata": {
        "id": "5iP9T0k00AvP",
        "colab_type": "code",
        "outputId": "e9a8b6ae-625b-4f52-a2d2-3b7de314191c",
        "colab": {
          "base_uri": "https://localhost:8080/",
          "height": 170
        }
      },
      "source": [
        "# concatenation np.concatenate([array1,array2])\n",
        "a = np.array([1,2,3])\n",
        "b = np.array([4,5,6])\n",
        "c = np.concatenate([a,b])\n",
        "print(\"c = {}\".format(c))\n",
        "\n",
        "#vertical stacking, stack x on y : np.vstack([x,y]) (same colomn shape required)\n",
        "grid = np.array([[1,1,1],\n",
        "                 [2,2,2]])\n",
        "z = np.array([3,3,3])\n",
        "c = np.vstack([grid,z,a])\n",
        "print(\"new c = \\n{}\".format(c))\n",
        "\n",
        "#horizontal stacking, concatenate x to y np.hstack([y,x]) (same ligne shape required)\n",
        "grid2 = np.array([[3,3,3],\n",
        "                  [4,4,4]])\n",
        "c = np.hstack([grid,grid2])\n",
        "print(\"new new c = \\n{}\".format(c))"
      ],
      "execution_count": 0,
      "outputs": [
        {
          "output_type": "stream",
          "text": [
            "c = [1 2 3 4 5 6]\n",
            "new c = \n",
            "[[1 1 1]\n",
            " [2 2 2]\n",
            " [3 3 3]\n",
            " [1 2 3]]\n",
            "new new c = \n",
            "[[1 1 1 3 3 3]\n",
            " [2 2 2 4 4 4]]\n"
          ],
          "name": "stdout"
        }
      ]
    },
    {
      "cell_type": "code",
      "metadata": {
        "id": "v5TtoVDayMxy",
        "colab_type": "code",
        "outputId": "7d6118e1-85fa-4007-fc26-f3c76f0edb4b",
        "colab": {
          "base_uri": "https://localhost:8080/",
          "height": 51
        }
      },
      "source": [
        "# slicing\n",
        "x = np.array([[0,1,2,3,4,5,6,7,8,9],[10,11,12,13,14,15,16,17,18,19]])\n",
        "print(x[:,2:-2])"
      ],
      "execution_count": 14,
      "outputs": [
        {
          "output_type": "stream",
          "text": [
            "[[ 2  3  4  5  6  7]\n",
            " [12 13 14 15 16 17]]\n"
          ],
          "name": "stdout"
        }
      ]
    },
    {
      "cell_type": "markdown",
      "metadata": {
        "id": "4-dl3pvvnBDH",
        "colab_type": "text"
      },
      "source": [
        "**Broadcasting**"
      ]
    },
    {
      "cell_type": "code",
      "metadata": {
        "id": "rO2i8DB3ODyE",
        "colab_type": "code",
        "colab": {
          "base_uri": "https://localhost:8080/",
          "height": 204
        },
        "outputId": "185d30bf-3f5a-4c49-d44d-26094299b358"
      },
      "source": [
        "\n",
        "x = np.arange(5) #[0,1,2,3,4]\n",
        "print(\"x + 5 = {}\".format(x+5))\n",
        "print(\"x * 2 = {}\".format(x*2))\n",
        "print(\"x / 2 = {}\".format(x/2))\n",
        "print(\"x // 2 = {}\".format(x//2))\n",
        "print(\"x % 2 = {}\".format(x%2))\n",
        "print(\"(x+5) + (x**2) = {}\".format((x+5) + (x**2)))\n",
        "\n",
        "x = np.array([[1,2,3], [4,5,6], [7,8,9], [10, 11, 12]])\n",
        "v = np.array([1, 0, 1])\n",
        "\n",
        "print(\"x + v = \\n{}\".format(x+v))"
      ],
      "execution_count": 69,
      "outputs": [
        {
          "output_type": "stream",
          "text": [
            "x + 5 = [5 6 7 8 9]\n",
            "x * 2 = [0 2 4 6 8]\n",
            "x / 2 = [0.  0.5 1.  1.5 2. ]\n",
            "x // 2 = [0 0 1 1 2]\n",
            "x % 2 = [0 1 0 1 0]\n",
            "(x+5) + (x**2) = [ 5  7 11 17 25]\n",
            "x + v = \n",
            "[[ 2  2  4]\n",
            " [ 5  5  7]\n",
            " [ 8  8 10]\n",
            " [11 11 13]]\n"
          ],
          "name": "stdout"
        }
      ]
    },
    {
      "cell_type": "code",
      "metadata": {
        "id": "hf8wbT_1PvqE",
        "colab_type": "code",
        "colab": {
          "base_uri": "https://localhost:8080/",
          "height": 68
        },
        "outputId": "63b99681-165f-4595-ce25-3b6188b0c8dc"
      },
      "source": [
        "# some functions\n",
        "x = [-2, -1, 1, 2]\n",
        "print(\"abs: {}\".format(np.abs(x)))\n",
        "print(\"exp: {}\".format(np.exp(x)))\n",
        "print(\"log: {}\".format(np.log(np.abs(x))))"
      ],
      "execution_count": 23,
      "outputs": [
        {
          "output_type": "stream",
          "text": [
            "abs: [2 1 1 2]\n",
            "exp: [0.13533528 0.36787944 2.71828183 7.3890561 ]\n",
            "log: [0.69314718 0.         0.         0.69314718]\n"
          ],
          "name": "stdout"
        }
      ]
    },
    {
      "cell_type": "code",
      "metadata": {
        "id": "58o-nvqbQaqZ",
        "colab_type": "code",
        "colab": {
          "base_uri": "https://localhost:8080/",
          "height": 170
        },
        "outputId": "4e148966-0116-422e-d26d-c300aaf1a2b0"
      },
      "source": [
        "# inverse matrix\n",
        "mat = np.random.randint(1,15,(4,4))\n",
        "print(mat,end=\"\\n**********\\n\")\n",
        "inv_mat = (1.0/mat)\n",
        "print(inv_mat)"
      ],
      "execution_count": 28,
      "outputs": [
        {
          "output_type": "stream",
          "text": [
            "[[ 4 12  5 11]\n",
            " [ 3 14 14  8]\n",
            " [ 4  3  8 10]\n",
            " [ 2 14 13  1]]\n",
            "**********\n",
            "[[0.25       0.08333333 0.2        0.09090909]\n",
            " [0.33333333 0.07142857 0.07142857 0.125     ]\n",
            " [0.25       0.33333333 0.125      0.1       ]\n",
            " [0.5        0.07142857 0.07692308 1.        ]]\n"
          ],
          "name": "stdout"
        }
      ]
    },
    {
      "cell_type": "markdown",
      "metadata": {
        "id": "GSvq3lX4YWHO",
        "colab_type": "text"
      },
      "source": [
        "We an also define our functions:"
      ]
    },
    {
      "cell_type": "code",
      "metadata": {
        "id": "k1D3pK_HYUSv",
        "colab_type": "code",
        "colab": {
          "base_uri": "https://localhost:8080/",
          "height": 51
        },
        "outputId": "1108bc0f-f122-4eac-9ab8-c6a4490c4c1f"
      },
      "source": [
        "def fun(x):\n",
        "  return x+x.ndim\n",
        "\n",
        "mat = np.full((2,2),2)\n",
        "print(fun(mat))"
      ],
      "execution_count": 51,
      "outputs": [
        {
          "output_type": "stream",
          "text": [
            "[[4 4]\n",
            " [4 4]]\n"
          ],
          "name": "stdout"
        }
      ]
    },
    {
      "cell_type": "markdown",
      "metadata": {
        "id": "rPqb_iJ3SqE4",
        "colab_type": "text"
      },
      "source": [
        "**Boolean indexing**"
      ]
    },
    {
      "cell_type": "code",
      "metadata": {
        "id": "7cWtrYY5TAUA",
        "colab_type": "code",
        "colab": {
          "base_uri": "https://localhost:8080/",
          "height": 170
        },
        "outputId": "8c40e8f7-064f-47d4-ed21-64c67922bb75"
      },
      "source": [
        "mat = np.random.randint(0,16,(4,4))\n",
        "bool_index = (mat%2==0) #return an array of booleans with the same shape as mat's\n",
        "print(mat)\n",
        "print()\n",
        "print(bool_index)"
      ],
      "execution_count": 41,
      "outputs": [
        {
          "output_type": "stream",
          "text": [
            "[[10 15  9  3]\n",
            " [11  2  8 14]\n",
            " [14  9  5  2]\n",
            " [ 3  2  4 11]]\n",
            "\n",
            "[[ True False False False]\n",
            " [False  True  True  True]\n",
            " [ True False False  True]\n",
            " [False  True  True False]]\n"
          ],
          "name": "stdout"
        }
      ]
    },
    {
      "cell_type": "code",
      "metadata": {
        "id": "bMRPpaXbUKzX",
        "colab_type": "code",
        "colab": {
          "base_uri": "https://localhost:8080/",
          "height": 34
        },
        "outputId": "610916ca-7eef-44ed-f289-d982c1af2ef6"
      },
      "source": [
        "mat_pair = mat[bool_index] # mat[bool_index] will return a array of elements that validate the condition with ndim==1\n",
        "print(mat_pair) "
      ],
      "execution_count": 42,
      "outputs": [
        {
          "output_type": "stream",
          "text": [
            "[10  2  8 14 14  2  2  4]\n"
          ],
          "name": "stdout"
        }
      ]
    },
    {
      "cell_type": "code",
      "metadata": {
        "id": "jaEx2POUUwSR",
        "colab_type": "code",
        "colab": {
          "base_uri": "https://localhost:8080/",
          "height": 51
        },
        "outputId": "cc6c9cb5-5bfd-413b-dbe5-4b9d1f409e92"
      },
      "source": [
        "print(mat_pair[mat_pair>=4]) # you can add directly the condition without using a variable\n",
        "print(np.where(mat_pair>=4)) # or use the function np.where"
      ],
      "execution_count": 44,
      "outputs": [
        {
          "output_type": "stream",
          "text": [
            "[10  8 14 14  4]\n",
            "(array([0, 2, 3, 4, 7]),)\n"
          ],
          "name": "stdout"
        }
      ]
    },
    {
      "cell_type": "markdown",
      "metadata": {
        "id": "UQKEh0Z9WWNt",
        "colab_type": "text"
      },
      "source": [
        "**Agregation**:"
      ]
    },
    {
      "cell_type": "code",
      "metadata": {
        "id": "TGx-ZhGXWaJt",
        "colab_type": "code",
        "colab": {
          "base_uri": "https://localhost:8080/",
          "height": 68
        },
        "outputId": "dd24dc93-3d2a-4e9a-a344-4b8d4bbc454a"
      },
      "source": [
        "five = np.full((1,5),1) \n",
        "five_scale = np.sum(five)\n",
        "print(five_scale)\n",
        "nine = np.full((3,3),1)\n",
        "nine_scale = np.sum(nine)\n",
        "print(nine_scale) # the function np.sum will sum all the values in the array elementwise"
      ],
      "execution_count": 56,
      "outputs": [
        {
          "output_type": "stream",
          "text": [
            "5\n",
            "9\n",
            "[3 3 3]\n"
          ],
          "name": "stdout"
        }
      ]
    },
    {
      "cell_type": "code",
      "metadata": {
        "id": "-e5p2B93Z7_f",
        "colab_type": "code",
        "colab": {
          "base_uri": "https://localhost:8080/",
          "height": 51
        },
        "outputId": "92c8e027-ffe8-4696-d952-4607033c9553"
      },
      "source": [
        "mat2 = np.array([[1,1,1],\n",
        "                 [2,2,2],\n",
        "                 [3,3,3]]) \n",
        "print(mat2.sum(axis=0)) # to sum the elements ligne by ligne, the shape will be equal to the number of colomns\n",
        "print(mat2.sum(axis=1)) # to sum the elements column by column, the shape will be equal to the number of lignes"
      ],
      "execution_count": 57,
      "outputs": [
        {
          "output_type": "stream",
          "text": [
            "[6 6 6]\n",
            "[3 6 9]\n"
          ],
          "name": "stdout"
        }
      ]
    },
    {
      "cell_type": "markdown",
      "metadata": {
        "id": "aWWvOqxba8oI",
        "colab_type": "text"
      },
      "source": [
        "**Statistics functions**:\n",
        "\n",
        "\n",
        "1.   `np.std()`: to calculate the standart deviation\n",
        "2.   `np.argmin()`: return the index of the minimum\n",
        "3.   `np.argmax()`: return the index of the maximum\n",
        "4.   `np.percentile()`: to calculate the statistics on the elements \n",
        "\n"
      ]
    },
    {
      "cell_type": "code",
      "metadata": {
        "id": "hXJOKHgZbzmB",
        "colab_type": "code",
        "colab": {
          "base_uri": "https://localhost:8080/",
          "height": 153
        },
        "outputId": "da51e2b4-443c-49d9-e7b2-f3564f7f1967"
      },
      "source": [
        "mat = np.random.random((5,5))\n",
        "print(mat)\n",
        "print(np.argmin(mat))\n",
        "print(np.argmax(mat))\n",
        "print(np.std(mat))"
      ],
      "execution_count": 68,
      "outputs": [
        {
          "output_type": "stream",
          "text": [
            "[[0.12751715 0.65442069 0.86076538 0.47873406 0.37814743]\n",
            " [0.62110399 0.76844711 0.89260685 0.59132629 0.43934275]\n",
            " [0.63787844 0.99727578 0.88724368 0.79814502 0.11725742]\n",
            " [0.82568164 0.52890998 0.61675195 0.40522874 0.5623576 ]\n",
            " [0.20988811 0.36593987 0.21966703 0.6369223  0.97463783]]\n",
            "14\n",
            "11\n",
            "0.2525835231206826\n"
          ],
          "name": "stdout"
        }
      ]
    },
    {
      "cell_type": "markdown",
      "metadata": {
        "id": "KN4DSiqioQSc",
        "colab_type": "text"
      },
      "source": [
        "**vector product nad transpos**:"
      ]
    },
    {
      "cell_type": "code",
      "metadata": {
        "id": "vEt0HnfFoUzG",
        "colab_type": "code",
        "colab": {
          "base_uri": "https://localhost:8080/",
          "height": 85
        },
        "outputId": "836bb4d4-c357-4e6a-a2f9-c4faa7fb5e46"
      },
      "source": [
        "# vector product\n",
        "a = np.array([1,2,3])  # x1x2 + y1y2 + z1z2.....\n",
        "b = np.array([4,5,6])\n",
        "print(a.dot(b))\n",
        "\n",
        "# tranpose\n",
        "d = np.array([9,9,9])\n",
        "c = np.array([8,8,8])\n",
        "print(np.vstack([a,b,c,d]).T)"
      ],
      "execution_count": 73,
      "outputs": [
        {
          "output_type": "stream",
          "text": [
            "32\n",
            "[[1 4 8 9]\n",
            " [2 5 8 9]\n",
            " [3 6 8 9]]\n"
          ],
          "name": "stdout"
        }
      ]
    },
    {
      "cell_type": "markdown",
      "metadata": {
        "id": "k3zG_WheqNVB",
        "colab_type": "text"
      },
      "source": [
        "**Reshaping**:"
      ]
    },
    {
      "cell_type": "code",
      "metadata": {
        "id": "bMis3mFFn1mM",
        "colab_type": "code",
        "colab": {
          "base_uri": "https://localhost:8080/",
          "height": 68
        },
        "outputId": "39cba1f2-8d64-432f-8978-d154ce3db2c0"
      },
      "source": [
        "a = np.array([[1,2,3],\n",
        "              [4,5,6]])\n",
        "print(a.shape)\n",
        "b = a.reshape(1,6) # to rechape an array we must have x0 * y0 == x1 * y2\n",
        "print(b,\"\\n\",b.shape)"
      ],
      "execution_count": 76,
      "outputs": [
        {
          "output_type": "stream",
          "text": [
            "(2, 3)\n",
            "[[1 2 3 4 5 6]] \n",
            " (1, 6)\n"
          ],
          "name": "stdout"
        }
      ]
    }
  ]
}