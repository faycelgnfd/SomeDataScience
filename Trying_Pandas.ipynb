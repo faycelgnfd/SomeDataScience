{
  "nbformat": 4,
  "nbformat_minor": 0,
  "metadata": {
    "colab": {
      "name": "Trying_Pandas.ipynb",
      "provenance": [],
      "collapsed_sections": []
    },
    "kernelspec": {
      "name": "python3",
      "display_name": "Python 3"
    }
  },
  "cells": [
    {
      "cell_type": "code",
      "metadata": {
        "id": "qzkeDPvuguay",
        "colab_type": "code",
        "colab": {}
      },
      "source": [
        "import numpy as np"
      ],
      "execution_count": 0,
      "outputs": []
    },
    {
      "cell_type": "markdown",
      "metadata": {
        "id": "D5wGm9WnhGov",
        "colab_type": "text"
      },
      "source": [
        "We want to represent an animal using numpy, a panda for exemple. Let's take a numpy.array to represent some of his caracteristics:\n",
        "\n",
        "[paws length,hair length,tale's length,diameter]"
      ]
    },
    {
      "cell_type": "code",
      "metadata": {
        "id": "DP159zPCjgFw",
        "colab_type": "code",
        "outputId": "66cc101c-3f1a-4d96-b103-fc973377fbf9",
        "colab": {
          "base_uri": "https://localhost:8080/",
          "height": 35
        }
      },
      "source": [
        "a_numpy_panda = np.array([100,5,20,80])\n",
        "a_numpy_panda"
      ],
      "execution_count": 2,
      "outputs": [
        {
          "output_type": "execute_result",
          "data": {
            "text/plain": [
              "array([100,   5,  20,  80])"
            ]
          },
          "metadata": {
            "tags": []
          },
          "execution_count": 2
        }
      ]
    },
    {
      "cell_type": "markdown",
      "metadata": {
        "id": "4nedGto8lCNL",
        "colab_type": "text"
      },
      "source": [
        "So if I want multiple pandas i represent a list of pandas:"
      ]
    },
    {
      "cell_type": "code",
      "metadata": {
        "id": "5nQFHMiGlIot",
        "colab_type": "code",
        "outputId": "41ef8ea0-1afb-4cdc-e26d-e2c0eb60285d",
        "colab": {
          "base_uri": "https://localhost:8080/",
          "height": 72
        }
      },
      "source": [
        "panda_family = [\n",
        "                np.array([100,5,20,80]), #momy panda\n",
        "                np.array([50,2.4,9,40]), #baby panda\n",
        "                np.array([110,5,22,83]) #dady panda\n",
        "]\n",
        "panda_family"
      ],
      "execution_count": 3,
      "outputs": [
        {
          "output_type": "execute_result",
          "data": {
            "text/plain": [
              "[array([100,   5,  20,  80]),\n",
              " array([50. ,  2.4,  9. , 40. ]),\n",
              " array([110,   5,  22,  83])]"
            ]
          },
          "metadata": {
            "tags": []
          },
          "execution_count": 3
        }
      ]
    },
    {
      "cell_type": "markdown",
      "metadata": {
        "id": "gX4GyGTcqZWs",
        "colab_type": "text"
      },
      "source": [
        "We can do better with numpy arrays ;)"
      ]
    },
    {
      "cell_type": "code",
      "metadata": {
        "id": "RezhQQJYqhLC",
        "colab_type": "code",
        "outputId": "5d1d1a96-ce4b-44ce-8ce8-a9a102244f1d",
        "colab": {
          "base_uri": "https://localhost:8080/",
          "height": 72
        }
      },
      "source": [
        "np_panda_family = np.array([\n",
        "                    [100,5,20,80], #momy panda\n",
        "                    [50,2.4,9,40], #baby panda\n",
        "                    [110,5,22,83], #dady panda\n",
        "])\n",
        "np_panda_family"
      ],
      "execution_count": 22,
      "outputs": [
        {
          "output_type": "execute_result",
          "data": {
            "text/plain": [
              "array([[100. ,   5. ,  20. ,  80. ],\n",
              "       [ 50. ,   2.4,   9. ,  40. ],\n",
              "       [110. ,   5. ,  22. ,  83. ]])"
            ]
          },
          "metadata": {
            "tags": []
          },
          "execution_count": 22
        }
      ]
    },
    {
      "cell_type": "code",
      "metadata": {
        "id": "5vws34JzsNZn",
        "colab_type": "code",
        "outputId": "077be926-8333-4dc9-f227-0e8eda6b2480",
        "colab": {
          "base_uri": "https://localhost:8080/",
          "height": 72
        }
      },
      "source": [
        "#or we can do this\n",
        "np_panda_family2 = np.array(panda_family)\n",
        "print(np_panda_family2)"
      ],
      "execution_count": 5,
      "outputs": [
        {
          "output_type": "stream",
          "text": [
            "[[100.    5.   20.   80. ]\n",
            " [ 50.    2.4   9.   40. ]\n",
            " [110.    5.   22.   83. ]]\n"
          ],
          "name": "stdout"
        }
      ]
    },
    {
      "cell_type": "markdown",
      "metadata": {
        "id": "TPqElAUQt8an",
        "colab_type": "text"
      },
      "source": [
        "So we have an array of arrays\n",
        "or a 2dim array (shape == (3,4))"
      ]
    },
    {
      "cell_type": "code",
      "metadata": {
        "id": "UmuO0Bvxt5un",
        "colab_type": "code",
        "outputId": "76717feb-a0ea-42cd-c20b-8375d2f773f0",
        "colab": {
          "base_uri": "https://localhost:8080/",
          "height": 54
        }
      },
      "source": [
        "#if we want the hair lenggth of the baby:\n",
        "print(\"baby panda's hair length: {}\".format(np_panda_family[1,1]))\n",
        "\n",
        "#if we want to now the hair length of every memeber:\n",
        "print(\"the hair lengths: {}\".format(np_panda_family[:,1]))"
      ],
      "execution_count": 6,
      "outputs": [
        {
          "output_type": "stream",
          "text": [
            "baby panda's hair length: 2.4\n",
            "the hair lengths: [5.  2.4 2.4]\n"
          ],
          "name": "stdout"
        }
      ]
    },
    {
      "cell_type": "markdown",
      "metadata": {
        "id": "pzIRKWOxyRb2",
        "colab_type": "text"
      },
      "source": [
        "As we just saw, we can represent tables of informations or commonly called dataframes with numpy. But it.s not intuitive neither explicit, indeed we cannot now what each column represent as informations without having an external reference.\n",
        "So we have to look for another solution to have a better representation of our data.\n",
        "Actually python gives us a library which we can make a good use of, it's called Pandas, yeah like the cute asian bear lol."
      ]
    },
    {
      "cell_type": "markdown",
      "metadata": {
        "id": "Lq5lKHzNzFUF",
        "colab_type": "text"
      },
      "source": [
        "# Panda library (panel date)\n",
        "It's a python library used to manipulate numerical tables but it's particularity is that we can add indexes to the ligne and colmns.\n"
      ]
    },
    {
      "cell_type": "code",
      "metadata": {
        "id": "GxIHPH9M0pTr",
        "colab_type": "code",
        "colab": {}
      },
      "source": [
        "# Importing the pandas library\n",
        "import pandas as pd"
      ],
      "execution_count": 0,
      "outputs": []
    },
    {
      "cell_type": "markdown",
      "metadata": {
        "id": "isfpBh0i2071",
        "colab_type": "text"
      },
      "source": [
        "The object that will let us manipulate data are called DataFrames and it's created by giving it an array of dim == 2 (an array of arrays)"
      ]
    },
    {
      "cell_type": "code",
      "metadata": {
        "id": "boqoKdfZyQT5",
        "colab_type": "code",
        "outputId": "dabc0812-adc3-4f2b-cfa2-79248cb0b965",
        "colab": {
          "base_uri": "https://localhost:8080/",
          "height": 90
        }
      },
      "source": [
        "# Transforming the np_panda_family into a dataframe\n",
        "df_panda_family = pd.DataFrame(np_panda_family)\n",
        "print(df_panda_family)"
      ],
      "execution_count": 8,
      "outputs": [
        {
          "output_type": "stream",
          "text": [
            "       0    1     2     3\n",
            "0  100.0  5.0  20.0  80.0\n",
            "1   50.0  2.4   9.0  40.0\n",
            "2   50.0  2.4   9.0  40.0\n"
          ],
          "name": "stdout"
        }
      ]
    },
    {
      "cell_type": "markdown",
      "metadata": {
        "id": "L9EJvVrc2mEA",
        "colab_type": "text"
      },
      "source": [
        "So this is the DataFrame of the panda family\n",
        "\n",
        "We notice that there is two new rows, a vertical and an horizontal one. Thos two are the indexes\n",
        "\n",
        "But we want to refere to each column as her name. Easy, we will just add array of the indexes and the array of the columns as parameters in the method pd.DataFrame\n"
      ]
    },
    {
      "cell_type": "code",
      "metadata": {
        "id": "7aKN2WpH403G",
        "colab_type": "code",
        "outputId": "4dfa37a4-d8c6-427b-9597-e476f4ede896",
        "colab": {
          "base_uri": "https://localhost:8080/",
          "height": 143
        }
      },
      "source": [
        "# creating an explicit DataFrame\n",
        "df_panda_family = pd.DataFrame(np_panda_family2,\n",
        "                               columns=[\"paws\",\"hair\",\"tale\",\"diameter\"],\n",
        "                               index=[\"momy\",\"baby\",\"dady\"])\n",
        "df_panda_family"
      ],
      "execution_count": 23,
      "outputs": [
        {
          "output_type": "execute_result",
          "data": {
            "text/html": [
              "<div>\n",
              "<style scoped>\n",
              "    .dataframe tbody tr th:only-of-type {\n",
              "        vertical-align: middle;\n",
              "    }\n",
              "\n",
              "    .dataframe tbody tr th {\n",
              "        vertical-align: top;\n",
              "    }\n",
              "\n",
              "    .dataframe thead th {\n",
              "        text-align: right;\n",
              "    }\n",
              "</style>\n",
              "<table border=\"1\" class=\"dataframe\">\n",
              "  <thead>\n",
              "    <tr style=\"text-align: right;\">\n",
              "      <th></th>\n",
              "      <th>paws</th>\n",
              "      <th>hair</th>\n",
              "      <th>tale</th>\n",
              "      <th>diameter</th>\n",
              "    </tr>\n",
              "  </thead>\n",
              "  <tbody>\n",
              "    <tr>\n",
              "      <th>momy</th>\n",
              "      <td>100.0</td>\n",
              "      <td>5.0</td>\n",
              "      <td>20.0</td>\n",
              "      <td>80.0</td>\n",
              "    </tr>\n",
              "    <tr>\n",
              "      <th>baby</th>\n",
              "      <td>50.0</td>\n",
              "      <td>2.4</td>\n",
              "      <td>9.0</td>\n",
              "      <td>40.0</td>\n",
              "    </tr>\n",
              "    <tr>\n",
              "      <th>dady</th>\n",
              "      <td>110.0</td>\n",
              "      <td>5.0</td>\n",
              "      <td>22.0</td>\n",
              "      <td>83.0</td>\n",
              "    </tr>\n",
              "  </tbody>\n",
              "</table>\n",
              "</div>"
            ],
            "text/plain": [
              "       paws  hair  tale  diameter\n",
              "momy  100.0   5.0  20.0      80.0\n",
              "baby   50.0   2.4   9.0      40.0\n",
              "dady  110.0   5.0  22.0      83.0"
            ]
          },
          "metadata": {
            "tags": []
          },
          "execution_count": 23
        }
      ]
    },
    {
      "cell_type": "markdown",
      "metadata": {
        "id": "ZsdpTFXz8JiV",
        "colab_type": "text"
      },
      "source": [
        "So the cool thing about pandas is that it uses numpy's properties. So we can guess tha it uses a Vstack([columns,table]) and an Hstack([index,table])\n",
        "so as in numpy we have to respect the shape of the tables."
      ]
    },
    {
      "cell_type": "markdown",
      "metadata": {
        "id": "7_tEOkuAmw8l",
        "colab_type": "text"
      },
      "source": [
        "# DataFrames functionalities:"
      ]
    },
    {
      "cell_type": "code",
      "metadata": {
        "id": "uJe1Qrz-0oqr",
        "colab_type": "code",
        "colab": {
          "base_uri": "https://localhost:8080/",
          "height": 90
        },
        "outputId": "530ebb78-543d-49e7-edde-a90520192519"
      },
      "source": [
        "df = df_panda_family #just to simplify cuz am lazy\n",
        "# how to access to columns(two ways):\n",
        "df[\"tale\"]\n",
        "df.tale\n"
      ],
      "execution_count": 24,
      "outputs": [
        {
          "output_type": "execute_result",
          "data": {
            "text/plain": [
              "momy    20.0\n",
              "baby     9.0\n",
              "dady    22.0\n",
              "Name: tale, dtype: float64"
            ]
          },
          "metadata": {
            "tags": []
          },
          "execution_count": 24
        }
      ]
    },
    {
      "cell_type": "markdown",
      "metadata": {
        "id": "L6Sezs3Sn2qh",
        "colab_type": "text"
      },
      "source": [
        "The returned object by ```df.tale``` is a 'panda.Series' to get the numpy array format we use ```df.tale.values``` "
      ]
    },
    {
      "cell_type": "code",
      "metadata": {
        "id": "wQXf8XRhptcK",
        "colab_type": "code",
        "colab": {
          "base_uri": "https://localhost:8080/",
          "height": 72
        },
        "outputId": "451c3e60-2bc4-4d6e-d546-71d54f9ddf06"
      },
      "source": [
        "print(type(df.tale))\n",
        "print(type(df.tale.values))\n",
        "df.tale.values"
      ],
      "execution_count": 25,
      "outputs": [
        {
          "output_type": "stream",
          "text": [
            "<class 'pandas.core.series.Series'>\n",
            "<class 'numpy.ndarray'>\n"
          ],
          "name": "stdout"
        },
        {
          "output_type": "execute_result",
          "data": {
            "text/plain": [
              "array([20.,  9., 22.])"
            ]
          },
          "metadata": {
            "tags": []
          },
          "execution_count": 25
        }
      ]
    },
    {
      "cell_type": "markdown",
      "metadata": {
        "id": "5C2GqS4mpsxv",
        "colab_type": "text"
      },
      "source": [
        "This is how to access rows"
      ]
    },
    {
      "cell_type": "code",
      "metadata": {
        "id": "q_fZU9uSsNIg",
        "colab_type": "code",
        "colab": {
          "base_uri": "https://localhost:8080/",
          "height": 109
        },
        "outputId": "48a41d2b-39f0-4545-ebb3-7b0f1f2d29b2"
      },
      "source": [
        "# again, two methodes\n",
        "# 1st\n",
        "df.loc[\"dady\"]"
      ],
      "execution_count": 29,
      "outputs": [
        {
          "output_type": "execute_result",
          "data": {
            "text/plain": [
              "paws        110.0\n",
              "hair          5.0\n",
              "tale         22.0\n",
              "diameter     83.0\n",
              "Name: dady, dtype: float64"
            ]
          },
          "metadata": {
            "tags": []
          },
          "execution_count": 29
        }
      ]
    },
    {
      "cell_type": "code",
      "metadata": {
        "id": "JJcspmJjssf0",
        "colab_type": "code",
        "colab": {
          "base_uri": "https://localhost:8080/",
          "height": 109
        },
        "outputId": "4c25d700-0e4c-4a71-c071-0974c9a9eb5b"
      },
      "source": [
        "# 2nd\n",
        "df.iloc[1] # iloc uses the positional indexing so you have to know the position of the row you're looking for"
      ],
      "execution_count": 47,
      "outputs": [
        {
          "output_type": "execute_result",
          "data": {
            "text/plain": [
              "paws        50.0\n",
              "hair         2.4\n",
              "tale         9.0\n",
              "diameter    40.0\n",
              "Name: baby, dtype: float64"
            ]
          },
          "metadata": {
            "tags": []
          },
          "execution_count": 47
        }
      ]
    },
    {
      "cell_type": "code",
      "metadata": {
        "id": "Twj48H8d1YdJ",
        "colab_type": "code",
        "colab": {
          "base_uri": "https://localhost:8080/",
          "height": 112
        },
        "outputId": "663c204b-d48f-4ad7-dd0b-15dcfa3b944e"
      },
      "source": [
        "# yes we can do slicing on DataFrames\n",
        "df.iloc[:2]"
      ],
      "execution_count": 48,
      "outputs": [
        {
          "output_type": "execute_result",
          "data": {
            "text/html": [
              "<div>\n",
              "<style scoped>\n",
              "    .dataframe tbody tr th:only-of-type {\n",
              "        vertical-align: middle;\n",
              "    }\n",
              "\n",
              "    .dataframe tbody tr th {\n",
              "        vertical-align: top;\n",
              "    }\n",
              "\n",
              "    .dataframe thead th {\n",
              "        text-align: right;\n",
              "    }\n",
              "</style>\n",
              "<table border=\"1\" class=\"dataframe\">\n",
              "  <thead>\n",
              "    <tr style=\"text-align: right;\">\n",
              "      <th></th>\n",
              "      <th>paws</th>\n",
              "      <th>hair</th>\n",
              "      <th>tale</th>\n",
              "      <th>diameter</th>\n",
              "    </tr>\n",
              "  </thead>\n",
              "  <tbody>\n",
              "    <tr>\n",
              "      <th>momy</th>\n",
              "      <td>100.0</td>\n",
              "      <td>5.0</td>\n",
              "      <td>20.0</td>\n",
              "      <td>80.0</td>\n",
              "    </tr>\n",
              "    <tr>\n",
              "      <th>baby</th>\n",
              "      <td>50.0</td>\n",
              "      <td>2.4</td>\n",
              "      <td>9.0</td>\n",
              "      <td>40.0</td>\n",
              "    </tr>\n",
              "  </tbody>\n",
              "</table>\n",
              "</div>"
            ],
            "text/plain": [
              "       paws  hair  tale  diameter\n",
              "momy  100.0   5.0  20.0      80.0\n",
              "baby   50.0   2.4   9.0      40.0"
            ]
          },
          "metadata": {
            "tags": []
          },
          "execution_count": 48
        }
      ]
    },
    {
      "cell_type": "markdown",
      "metadata": {
        "id": "GO2SzbfztOGK",
        "colab_type": "text"
      },
      "source": [
        "The python fexibility lets us irterate easily on DataFrames using ```.iterrows()```\n",
        "\n",
        "The method returns a tuple with the index of the row in the first position and the row itself in the second position"
      ]
    },
    {
      "cell_type": "code",
      "metadata": {
        "id": "tE1MtbDrttZu",
        "colab_type": "code",
        "colab": {
          "base_uri": "https://localhost:8080/",
          "height": 403
        },
        "outputId": "5ab25374-0e0d-4c61-d99d-744b651a3196"
      },
      "source": [
        "for index, line in df.iterrows():\n",
        "  print(\"The panda member: {}\".format(index))\n",
        "  print(line,end=\"\\n--------------------\\n\")"
      ],
      "execution_count": 36,
      "outputs": [
        {
          "output_type": "stream",
          "text": [
            "The panda member: momy\n",
            "paws        100.0\n",
            "hair          5.0\n",
            "tale         20.0\n",
            "diameter     80.0\n",
            "Name: momy, dtype: float64\n",
            "--------------------\n",
            "The panda member: baby\n",
            "paws        50.0\n",
            "hair         2.4\n",
            "tale         9.0\n",
            "diameter    40.0\n",
            "Name: baby, dtype: float64\n",
            "--------------------\n",
            "The panda member: dady\n",
            "paws        110.0\n",
            "hair          5.0\n",
            "tale         22.0\n",
            "diameter     83.0\n",
            "Name: dady, dtype: float64\n",
            "--------------------\n"
          ],
          "name": "stdout"
        }
      ]
    },
    {
      "cell_type": "code",
      "metadata": {
        "id": "r6Uglgl0vIpz",
        "colab_type": "code",
        "colab": {}
      },
      "source": [
        "# to remind us of tuple\n",
        "for x in df.iterrows():\n",
        "  print(x[0])\n",
        "  print(x[1], end=\"\\n--------------------\\n\")\n",
        "# will print the same thing"
      ],
      "execution_count": 0,
      "outputs": []
    },
    {
      "cell_type": "code",
      "metadata": {
        "id": "iDScTwGEw5iS",
        "colab_type": "code",
        "colab": {
          "base_uri": "https://localhost:8080/",
          "height": 90
        },
        "outputId": "b1383a4b-38e9-4967-90c7-d2342decefa7"
      },
      "source": [
        "# let's try something\n",
        "df.diameter >= 80"
      ],
      "execution_count": 42,
      "outputs": [
        {
          "output_type": "execute_result",
          "data": {
            "text/plain": [
              "momy     True\n",
              "baby    False\n",
              "dady     True\n",
              "Name: diameter, dtype: bool"
            ]
          },
          "metadata": {
            "tags": []
          },
          "execution_count": 42
        }
      ]
    },
    {
      "cell_type": "markdown",
      "metadata": {
        "id": "SSVyh-Zsw5A8",
        "colab_type": "text"
      },
      "source": [
        "Python will compare each value of the clumn to the value.\n",
        "it remind us of something huh ?\n",
        "\n",
        "Yeaaah ! It's the boolean indexation of numpy, let's see what we can do"
      ]
    },
    {
      "cell_type": "code",
      "metadata": {
        "id": "-Gshljvsx1Y6",
        "colab_type": "code",
        "colab": {
          "base_uri": "https://localhost:8080/",
          "height": 186
        },
        "outputId": "c4945119-460b-4ba8-a023-24f37f37696c"
      },
      "source": [
        "# it work like the network masks\n",
        "mask = df.diameter >= 80\n",
        "print (mask)\n",
        "df[mask]"
      ],
      "execution_count": 43,
      "outputs": [
        {
          "output_type": "stream",
          "text": [
            "momy     True\n",
            "baby    False\n",
            "dady     True\n",
            "Name: diameter, dtype: bool\n"
          ],
          "name": "stdout"
        },
        {
          "output_type": "execute_result",
          "data": {
            "text/html": [
              "<div>\n",
              "<style scoped>\n",
              "    .dataframe tbody tr th:only-of-type {\n",
              "        vertical-align: middle;\n",
              "    }\n",
              "\n",
              "    .dataframe tbody tr th {\n",
              "        vertical-align: top;\n",
              "    }\n",
              "\n",
              "    .dataframe thead th {\n",
              "        text-align: right;\n",
              "    }\n",
              "</style>\n",
              "<table border=\"1\" class=\"dataframe\">\n",
              "  <thead>\n",
              "    <tr style=\"text-align: right;\">\n",
              "      <th></th>\n",
              "      <th>paws</th>\n",
              "      <th>hair</th>\n",
              "      <th>tale</th>\n",
              "      <th>diameter</th>\n",
              "    </tr>\n",
              "  </thead>\n",
              "  <tbody>\n",
              "    <tr>\n",
              "      <th>momy</th>\n",
              "      <td>100.0</td>\n",
              "      <td>5.0</td>\n",
              "      <td>20.0</td>\n",
              "      <td>80.0</td>\n",
              "    </tr>\n",
              "    <tr>\n",
              "      <th>dady</th>\n",
              "      <td>110.0</td>\n",
              "      <td>5.0</td>\n",
              "      <td>22.0</td>\n",
              "      <td>83.0</td>\n",
              "    </tr>\n",
              "  </tbody>\n",
              "</table>\n",
              "</div>"
            ],
            "text/plain": [
              "       paws  hair  tale  diameter\n",
              "momy  100.0   5.0  20.0      80.0\n",
              "dady  110.0   5.0  22.0      83.0"
            ]
          },
          "metadata": {
            "tags": []
          },
          "execution_count": 43
        }
      ]
    },
    {
      "cell_type": "markdown",
      "metadata": {
        "id": "kQ4eKVVXzNwD",
        "colab_type": "text"
      },
      "source": [
        "Python will print only the rows that validate the condition (which is the diameter should be >= 80)"
      ]
    },
    {
      "cell_type": "code",
      "metadata": {
        "id": "0XX7eyZWyk4E",
        "colab_type": "code",
        "colab": {
          "base_uri": "https://localhost:8080/",
          "height": 112
        },
        "outputId": "b77edb1d-fb1d-46d7-9c26-41c3a33e75c3"
      },
      "source": [
        "# We also can use it directly this way\n",
        "df[df.diameter >= 80]"
      ],
      "execution_count": 50,
      "outputs": [
        {
          "output_type": "execute_result",
          "data": {
            "text/html": [
              "<div>\n",
              "<style scoped>\n",
              "    .dataframe tbody tr th:only-of-type {\n",
              "        vertical-align: middle;\n",
              "    }\n",
              "\n",
              "    .dataframe tbody tr th {\n",
              "        vertical-align: top;\n",
              "    }\n",
              "\n",
              "    .dataframe thead th {\n",
              "        text-align: right;\n",
              "    }\n",
              "</style>\n",
              "<table border=\"1\" class=\"dataframe\">\n",
              "  <thead>\n",
              "    <tr style=\"text-align: right;\">\n",
              "      <th></th>\n",
              "      <th>paws</th>\n",
              "      <th>hair</th>\n",
              "      <th>tale</th>\n",
              "      <th>diameter</th>\n",
              "    </tr>\n",
              "  </thead>\n",
              "  <tbody>\n",
              "    <tr>\n",
              "      <th>momy</th>\n",
              "      <td>100.0</td>\n",
              "      <td>5.0</td>\n",
              "      <td>20.0</td>\n",
              "      <td>80.0</td>\n",
              "    </tr>\n",
              "    <tr>\n",
              "      <th>dady</th>\n",
              "      <td>110.0</td>\n",
              "      <td>5.0</td>\n",
              "      <td>22.0</td>\n",
              "      <td>83.0</td>\n",
              "    </tr>\n",
              "  </tbody>\n",
              "</table>\n",
              "</div>"
            ],
            "text/plain": [
              "       paws  hair  tale  diameter\n",
              "momy  100.0   5.0  20.0      80.0\n",
              "dady  110.0   5.0  22.0      83.0"
            ]
          },
          "metadata": {
            "tags": []
          },
          "execution_count": 50
        }
      ]
    },
    {
      "cell_type": "code",
      "metadata": {
        "id": "LwSJkNcv2UZ9",
        "colab_type": "code",
        "colab": {
          "base_uri": "https://localhost:8080/",
          "height": 81
        },
        "outputId": "49d2e29e-fbde-412a-cd75-592e0f256013"
      },
      "source": [
        "# We can invert the mask if we don't want to write the negation\n",
        "df[~mask]"
      ],
      "execution_count": 53,
      "outputs": [
        {
          "output_type": "execute_result",
          "data": {
            "text/html": [
              "<div>\n",
              "<style scoped>\n",
              "    .dataframe tbody tr th:only-of-type {\n",
              "        vertical-align: middle;\n",
              "    }\n",
              "\n",
              "    .dataframe tbody tr th {\n",
              "        vertical-align: top;\n",
              "    }\n",
              "\n",
              "    .dataframe thead th {\n",
              "        text-align: right;\n",
              "    }\n",
              "</style>\n",
              "<table border=\"1\" class=\"dataframe\">\n",
              "  <thead>\n",
              "    <tr style=\"text-align: right;\">\n",
              "      <th></th>\n",
              "      <th>paws</th>\n",
              "      <th>hair</th>\n",
              "      <th>tale</th>\n",
              "      <th>diameter</th>\n",
              "    </tr>\n",
              "  </thead>\n",
              "  <tbody>\n",
              "    <tr>\n",
              "      <th>baby</th>\n",
              "      <td>50.0</td>\n",
              "      <td>2.4</td>\n",
              "      <td>9.0</td>\n",
              "      <td>40.0</td>\n",
              "    </tr>\n",
              "  </tbody>\n",
              "</table>\n",
              "</div>"
            ],
            "text/plain": [
              "      paws  hair  tale  diameter\n",
              "baby  50.0   2.4   9.0      40.0"
            ]
          },
          "metadata": {
            "tags": []
          },
          "execution_count": 53
        }
      ]
    },
    {
      "cell_type": "markdown",
      "metadata": {
        "id": "Lmtzu8le5dVO",
        "colab_type": "text"
      },
      "source": [
        "# Expanding the DataFrame"
      ]
    },
    {
      "cell_type": "markdown",
      "metadata": {
        "id": "HiLQGGKb5qr1",
        "colab_type": "text"
      },
      "source": [
        "It wouldn't be interresting if we had to work on only data frame, what if we wanted to add some rows in it"
      ]
    },
    {
      "cell_type": "code",
      "metadata": {
        "id": "Uji9T9TO5qSJ",
        "colab_type": "code",
        "colab": {
          "base_uri": "https://localhost:8080/",
          "height": 238
        },
        "outputId": "41c62955-3378-4aa2-cac9-539f95624289"
      },
      "source": [
        "# putting the data in a new DataFrame\n",
        "other_pandas = pd.DataFrame(np.array([[80,4,15,65],\n",
        "                                      [200,8,30,100],\n",
        "                                      [100,5,20,80]]),\n",
        "                            columns = df.columns,\n",
        "                            index = [\"son\",\"giant\",\"other\"]) # don't forget to add the columns for the compatibility\n",
        "newDf = df.append(other_pandas) # just like we do to add values in a liste except that we have to save the DataFrame in a new one\n",
        "newDf"
      ],
      "execution_count": 71,
      "outputs": [
        {
          "output_type": "execute_result",
          "data": {
            "text/html": [
              "<div>\n",
              "<style scoped>\n",
              "    .dataframe tbody tr th:only-of-type {\n",
              "        vertical-align: middle;\n",
              "    }\n",
              "\n",
              "    .dataframe tbody tr th {\n",
              "        vertical-align: top;\n",
              "    }\n",
              "\n",
              "    .dataframe thead th {\n",
              "        text-align: right;\n",
              "    }\n",
              "</style>\n",
              "<table border=\"1\" class=\"dataframe\">\n",
              "  <thead>\n",
              "    <tr style=\"text-align: right;\">\n",
              "      <th></th>\n",
              "      <th>paws</th>\n",
              "      <th>hair</th>\n",
              "      <th>tale</th>\n",
              "      <th>diameter</th>\n",
              "    </tr>\n",
              "  </thead>\n",
              "  <tbody>\n",
              "    <tr>\n",
              "      <th>momy</th>\n",
              "      <td>100.0</td>\n",
              "      <td>5.0</td>\n",
              "      <td>20.0</td>\n",
              "      <td>80.0</td>\n",
              "    </tr>\n",
              "    <tr>\n",
              "      <th>baby</th>\n",
              "      <td>50.0</td>\n",
              "      <td>2.4</td>\n",
              "      <td>9.0</td>\n",
              "      <td>40.0</td>\n",
              "    </tr>\n",
              "    <tr>\n",
              "      <th>dady</th>\n",
              "      <td>110.0</td>\n",
              "      <td>5.0</td>\n",
              "      <td>22.0</td>\n",
              "      <td>83.0</td>\n",
              "    </tr>\n",
              "    <tr>\n",
              "      <th>son</th>\n",
              "      <td>80.0</td>\n",
              "      <td>4.0</td>\n",
              "      <td>15.0</td>\n",
              "      <td>65.0</td>\n",
              "    </tr>\n",
              "    <tr>\n",
              "      <th>giant</th>\n",
              "      <td>200.0</td>\n",
              "      <td>8.0</td>\n",
              "      <td>30.0</td>\n",
              "      <td>100.0</td>\n",
              "    </tr>\n",
              "    <tr>\n",
              "      <th>other</th>\n",
              "      <td>100.0</td>\n",
              "      <td>5.0</td>\n",
              "      <td>20.0</td>\n",
              "      <td>80.0</td>\n",
              "    </tr>\n",
              "  </tbody>\n",
              "</table>\n",
              "</div>"
            ],
            "text/plain": [
              "        paws  hair  tale  diameter\n",
              "momy   100.0   5.0  20.0      80.0\n",
              "baby    50.0   2.4   9.0      40.0\n",
              "dady   110.0   5.0  22.0      83.0\n",
              "son     80.0   4.0  15.0      65.0\n",
              "giant  200.0   8.0  30.0     100.0\n",
              "other  100.0   5.0  20.0      80.0"
            ]
          },
          "metadata": {
            "tags": []
          },
          "execution_count": 71
        }
      ]
    },
    {
      "cell_type": "code",
      "metadata": {
        "id": "7iAbwup48GVM",
        "colab_type": "code",
        "colab": {
          "base_uri": "https://localhost:8080/",
          "height": 206
        },
        "outputId": "20393799-97b8-47c6-c15c-bff985e3dcb9"
      },
      "source": [
        "#  but we don't want duplacation in our DataFrame. Not a problem\n",
        "newDf = newDf.drop_duplicates()\n",
        "newDf"
      ],
      "execution_count": 72,
      "outputs": [
        {
          "output_type": "execute_result",
          "data": {
            "text/html": [
              "<div>\n",
              "<style scoped>\n",
              "    .dataframe tbody tr th:only-of-type {\n",
              "        vertical-align: middle;\n",
              "    }\n",
              "\n",
              "    .dataframe tbody tr th {\n",
              "        vertical-align: top;\n",
              "    }\n",
              "\n",
              "    .dataframe thead th {\n",
              "        text-align: right;\n",
              "    }\n",
              "</style>\n",
              "<table border=\"1\" class=\"dataframe\">\n",
              "  <thead>\n",
              "    <tr style=\"text-align: right;\">\n",
              "      <th></th>\n",
              "      <th>paws</th>\n",
              "      <th>hair</th>\n",
              "      <th>tale</th>\n",
              "      <th>diameter</th>\n",
              "    </tr>\n",
              "  </thead>\n",
              "  <tbody>\n",
              "    <tr>\n",
              "      <th>momy</th>\n",
              "      <td>100.0</td>\n",
              "      <td>5.0</td>\n",
              "      <td>20.0</td>\n",
              "      <td>80.0</td>\n",
              "    </tr>\n",
              "    <tr>\n",
              "      <th>baby</th>\n",
              "      <td>50.0</td>\n",
              "      <td>2.4</td>\n",
              "      <td>9.0</td>\n",
              "      <td>40.0</td>\n",
              "    </tr>\n",
              "    <tr>\n",
              "      <th>dady</th>\n",
              "      <td>110.0</td>\n",
              "      <td>5.0</td>\n",
              "      <td>22.0</td>\n",
              "      <td>83.0</td>\n",
              "    </tr>\n",
              "    <tr>\n",
              "      <th>son</th>\n",
              "      <td>80.0</td>\n",
              "      <td>4.0</td>\n",
              "      <td>15.0</td>\n",
              "      <td>65.0</td>\n",
              "    </tr>\n",
              "    <tr>\n",
              "      <th>giant</th>\n",
              "      <td>200.0</td>\n",
              "      <td>8.0</td>\n",
              "      <td>30.0</td>\n",
              "      <td>100.0</td>\n",
              "    </tr>\n",
              "  </tbody>\n",
              "</table>\n",
              "</div>"
            ],
            "text/plain": [
              "        paws  hair  tale  diameter\n",
              "momy   100.0   5.0  20.0      80.0\n",
              "baby    50.0   2.4   9.0      40.0\n",
              "dady   110.0   5.0  22.0      83.0\n",
              "son     80.0   4.0  15.0      65.0\n",
              "giant  200.0   8.0  30.0     100.0"
            ]
          },
          "metadata": {
            "tags": []
          },
          "execution_count": 72
        }
      ]
    },
    {
      "cell_type": "markdown",
      "metadata": {
        "id": "lztMOqO395Pl",
        "colab_type": "text"
      },
      "source": [
        "As written in the comments, appending the DataFrame will not modify it, it will create a new DataFrame.\n",
        "\n",
        "So if we want to keep it we can put the returned data frame in a new variable or, -if we don't  need the old one- we can replace it with the new one: ```old_dataFrame = old_dataFrame.append(another_dataFrame)```"
      ]
    },
    {
      "cell_type": "markdown",
      "metadata": {
        "id": "t5X-NAb7AxaP",
        "colab_type": "text"
      },
      "source": [
        "# Adding a new column"
      ]
    },
    {
      "cell_type": "code",
      "metadata": {
        "id": "N5tDjwZR5pPm",
        "colab_type": "code",
        "colab": {
          "base_uri": "https://localhost:8080/",
          "height": 316
        },
        "outputId": "02f2b3fd-9a30-43fa-bf28-78bbb7bfd77b"
      },
      "source": [
        "newDf[\"sexe\"] = [\"f\",\"f\",\"m\",\"m\",\"m\"] # we have to add a list with a length equal to the number of the rows\n",
        "newDf"
      ],
      "execution_count": 74,
      "outputs": [
        {
          "output_type": "stream",
          "text": [
            "/usr/local/lib/python3.6/dist-packages/ipykernel_launcher.py:1: SettingWithCopyWarning: \n",
            "A value is trying to be set on a copy of a slice from a DataFrame.\n",
            "Try using .loc[row_indexer,col_indexer] = value instead\n",
            "\n",
            "See the caveats in the documentation: http://pandas.pydata.org/pandas-docs/stable/user_guide/indexing.html#returning-a-view-versus-a-copy\n",
            "  \"\"\"Entry point for launching an IPython kernel.\n"
          ],
          "name": "stderr"
        },
        {
          "output_type": "execute_result",
          "data": {
            "text/html": [
              "<div>\n",
              "<style scoped>\n",
              "    .dataframe tbody tr th:only-of-type {\n",
              "        vertical-align: middle;\n",
              "    }\n",
              "\n",
              "    .dataframe tbody tr th {\n",
              "        vertical-align: top;\n",
              "    }\n",
              "\n",
              "    .dataframe thead th {\n",
              "        text-align: right;\n",
              "    }\n",
              "</style>\n",
              "<table border=\"1\" class=\"dataframe\">\n",
              "  <thead>\n",
              "    <tr style=\"text-align: right;\">\n",
              "      <th></th>\n",
              "      <th>paws</th>\n",
              "      <th>hair</th>\n",
              "      <th>tale</th>\n",
              "      <th>diameter</th>\n",
              "      <th>sexe</th>\n",
              "    </tr>\n",
              "  </thead>\n",
              "  <tbody>\n",
              "    <tr>\n",
              "      <th>momy</th>\n",
              "      <td>100.0</td>\n",
              "      <td>5.0</td>\n",
              "      <td>20.0</td>\n",
              "      <td>80.0</td>\n",
              "      <td>f</td>\n",
              "    </tr>\n",
              "    <tr>\n",
              "      <th>baby</th>\n",
              "      <td>50.0</td>\n",
              "      <td>2.4</td>\n",
              "      <td>9.0</td>\n",
              "      <td>40.0</td>\n",
              "      <td>f</td>\n",
              "    </tr>\n",
              "    <tr>\n",
              "      <th>dady</th>\n",
              "      <td>110.0</td>\n",
              "      <td>5.0</td>\n",
              "      <td>22.0</td>\n",
              "      <td>83.0</td>\n",
              "      <td>m</td>\n",
              "    </tr>\n",
              "    <tr>\n",
              "      <th>son</th>\n",
              "      <td>80.0</td>\n",
              "      <td>4.0</td>\n",
              "      <td>15.0</td>\n",
              "      <td>65.0</td>\n",
              "      <td>m</td>\n",
              "    </tr>\n",
              "    <tr>\n",
              "      <th>giant</th>\n",
              "      <td>200.0</td>\n",
              "      <td>8.0</td>\n",
              "      <td>30.0</td>\n",
              "      <td>100.0</td>\n",
              "      <td>m</td>\n",
              "    </tr>\n",
              "  </tbody>\n",
              "</table>\n",
              "</div>"
            ],
            "text/plain": [
              "        paws  hair  tale  diameter sexe\n",
              "momy   100.0   5.0  20.0      80.0    f\n",
              "baby    50.0   2.4   9.0      40.0    f\n",
              "dady   110.0   5.0  22.0      83.0    m\n",
              "son     80.0   4.0  15.0      65.0    m\n",
              "giant  200.0   8.0  30.0     100.0    m"
            ]
          },
          "metadata": {
            "tags": []
          },
          "execution_count": 74
        }
      ]
    },
    {
      "cell_type": "code",
      "metadata": {
        "id": "3SsOcvp2BgMT",
        "colab_type": "code",
        "colab": {
          "base_uri": "https://localhost:8080/",
          "height": 72
        },
        "outputId": "eb507896-f9ea-4ced-a939-2e5506734eb7"
      },
      "source": [
        "# other things\n",
        "# to count the number of rows:\n",
        "x = len(newDf)\n",
        "# to count number of columns\n",
        "y = len(newDf.columns)\n",
        "print(\"the number of rows: {}\\nthe number of columns: {}\".format(x,y))\n",
        "\n",
        "# to get the distincted values of a column\n",
        "print(\"the length of the tales are: {}\".format(newDf.tale.unique()))"
      ],
      "execution_count": 80,
      "outputs": [
        {
          "output_type": "stream",
          "text": [
            "the number of rows: 5\n",
            "the number of columns: 5\n",
            "the length of the tales are: [20.  9. 22. 15. 30.]\n"
          ],
          "name": "stdout"
        }
      ]
    },
    {
      "cell_type": "code",
      "metadata": {
        "id": "Qoz0k4r-C-nV",
        "colab_type": "code",
        "colab": {
          "base_uri": "https://localhost:8080/",
          "height": 35
        },
        "outputId": "0ea82d39-4ebc-4b36-fe60-e337713b3052"
      },
      "source": [
        "import os\n",
        "os.getcwd()"
      ],
      "execution_count": 81,
      "outputs": [
        {
          "output_type": "execute_result",
          "data": {
            "text/plain": [
              "'/content'"
            ]
          },
          "metadata": {
            "tags": []
          },
          "execution_count": 81
        }
      ]
    }
  ]
}